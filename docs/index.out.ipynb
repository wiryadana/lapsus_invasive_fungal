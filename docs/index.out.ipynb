{
 "cells": [
  {
   "cell_type": "markdown",
   "metadata": {},
   "source": [
    "# Penyakit Graves pada seorang perempuan dengan Sistemik Lupus\n",
    "\n",
    "Eritematosus\n",
    "\n",
    "dr. Kadek Adit Wiryadana (Universitas Udayana)  \n",
    "dr. I Made Siswadi Semadi, M.Biomed, SpPD, K-EMD (Universitas Udayana)  \n",
    "dr. Pande Ketut Kurniari, SpPD, K-R (Universitas Udayana)"
   ],
   "id": "888fb302-85a0-4262-85f1-f51f9149beec"
  },
  {
   "cell_type": "code",
   "execution_count": null,
   "metadata": {},
   "outputs": [
    {
     "output_type": "stream",
     "name": "stderr",
     "text": [
      "── Attaching core tidyverse packages ──────────────────────── tidyverse 2.0.0 ──\n",
      "✔ dplyr     1.1.4     ✔ readr     2.1.5\n",
      "✔ forcats   1.0.0     ✔ stringr   1.5.0\n",
      "✔ ggplot2   3.5.1     ✔ tibble    3.2.1\n",
      "✔ lubridate 1.9.3     ✔ tidyr     1.3.1\n",
      "✔ purrr     1.0.2     \n",
      "── Conflicts ────────────────────────────────────────── tidyverse_conflicts() ──\n",
      "✖ purrr::%||%()   masks base::%||%()\n",
      "✖ dplyr::filter() masks stats::filter()\n",
      "✖ dplyr::lag()    masks stats::lag()\n",
      "ℹ Use the conflicted package (<http://conflicted.r-lib.org/>) to force all conflicts to become errors"
     ]
    }
   ],
   "source": [
    "library(\"tidyverse\")"
   ],
   "id": "83c79b88-e0ca-48a8-a06b-efcdcc1018c3"
  },
  {
   "cell_type": "markdown",
   "metadata": {},
   "source": [
    "## Abstrak\n",
    "\n",
    "wiryadana\n",
    "\n",
    "## Pendahuluan\n",
    "\n",
    "## Laporan Kasus\n",
    "\n",
    "## Diskusi\n",
    "\n",
    "## Ringkasan\n",
    "\n",
    "## Daftar Pustaka"
   ],
   "id": "c10fb214-5b85-4ebc-8fab-79ecb59da4d4"
  }
 ],
 "nbformat": 4,
 "nbformat_minor": 5,
 "metadata": {}
}
