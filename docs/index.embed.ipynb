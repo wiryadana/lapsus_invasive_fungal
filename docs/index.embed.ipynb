{
 "cells": [
  {
   "cell_type": "markdown",
   "metadata": {},
   "source": [
    "# Penyakit Graves pada seorang perempuan dengan Sistemik Lupus\n",
    "\n",
    "Eritematosus\n",
    "\n",
    "dr. Kadek Adit Wiryadana (Universitas Udayana)  \n",
    "dr. I Made Siswadi Semadi, M.Biomed, SpPD, K-EMD (Universitas Udayana)  \n",
    "dr. Pande Ketut Kurniari, SpPD, K-R (Universitas Udayana)"
   ],
   "id": "70f51264-088e-429d-91f1-7c262382adab"
  },
  {
   "cell_type": "code",
   "execution_count": null,
   "metadata": {},
   "outputs": [
    {
     "output_type": "stream",
     "name": "stderr",
     "text": [
      "── Attaching core tidyverse packages ──────────────────────── tidyverse 2.0.0 ──\n",
      "✔ dplyr     1.1.4     ✔ readr     2.1.5\n",
      "✔ forcats   1.0.0     ✔ stringr   1.5.0\n",
      "✔ ggplot2   3.5.1     ✔ tibble    3.2.1\n",
      "✔ lubridate 1.9.3     ✔ tidyr     1.3.1\n",
      "✔ purrr     1.0.2     \n",
      "── Conflicts ────────────────────────────────────────── tidyverse_conflicts() ──\n",
      "✖ purrr::%||%()   masks base::%||%()\n",
      "✖ dplyr::filter() masks stats::filter()\n",
      "✖ dplyr::lag()    masks stats::lag()\n",
      "ℹ Use the conflicted package (<http://conflicted.r-lib.org/>) to force all conflicts to become errors"
     ]
    }
   ],
   "source": [
    "library(\"tidyverse\")"
   ],
   "id": "96d6ef17-271b-410b-8b2b-266ede2dd7ec"
  },
  {
   "cell_type": "markdown",
   "metadata": {},
   "source": [
    "## Abstrak\n",
    "\n",
    "wiryadana\n",
    "\n",
    "## Pendahuluan\n",
    "\n",
    "## Laporan Kasus\n",
    "\n",
    "## Diskusi\n",
    "\n",
    "## Ringkasan\n",
    "\n",
    "## Daftar Pustaka"
   ],
   "id": "de949009-8661-4b22-af9a-154d0f7b1926"
  }
 ],
 "nbformat": 4,
 "nbformat_minor": 5,
 "metadata": {}
}
